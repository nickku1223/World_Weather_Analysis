{
 "cells": [
  {
   "cell_type": "code",
   "execution_count": 1,
   "id": "14558e53-7be1-4408-9671-1e792c617b1d",
   "metadata": {},
   "outputs": [],
   "source": [
    "# Import the random module\n",
    "import random"
   ]
  },
  {
   "cell_type": "code",
   "execution_count": 4,
   "id": "b864a52c-0543-42e0-b204-46a99d33f0b6",
   "metadata": {},
   "outputs": [
    {
     "data": {
      "text/plain": [
       "-36"
      ]
     },
     "execution_count": 4,
     "metadata": {},
     "output_type": "execute_result"
    }
   ],
   "source": [
    "random.randint(-90, 90)"
   ]
  },
  {
   "cell_type": "code",
   "execution_count": 5,
   "id": "611d74af-d7ab-4503-ae4b-4db47d539bee",
   "metadata": {},
   "outputs": [
    {
     "data": {
      "text/plain": [
       "0.2776462673421154"
      ]
     },
     "execution_count": 5,
     "metadata": {},
     "output_type": "execute_result"
    }
   ],
   "source": [
    "random.random()"
   ]
  },
  {
   "cell_type": "code",
   "execution_count": 7,
   "id": "52939c15-fe16-49fe-8faa-6200dcb19669",
   "metadata": {},
   "outputs": [
    {
     "data": {
      "text/plain": [
       "59.205747224621824"
      ]
     },
     "execution_count": 7,
     "metadata": {},
     "output_type": "execute_result"
    }
   ],
   "source": [
    "random_numbers = random.randint(-90, 89) + random.random()\n",
    "random_numbers"
   ]
  },
  {
   "cell_type": "code",
   "execution_count": 9,
   "id": "d73d5243-1fc4-422c-ba68-6cb0fb401ec2",
   "metadata": {},
   "outputs": [
    {
     "data": {
      "text/plain": [
       "[26.69072215890011,\n",
       " -9.386104673143468,\n",
       " 70.45213184414004,\n",
       " -17.22087235589096,\n",
       " -2.276936199742647,\n",
       " -13.2202236280154,\n",
       " 72.68947484520946,\n",
       " -21.347509427958858,\n",
       " -20.40145042514094,\n",
       " 26.741831515706128]"
      ]
     },
     "execution_count": 9,
     "metadata": {},
     "output_type": "execute_result"
    }
   ],
   "source": [
    "# example for generate random latitudes.\n",
    "\n",
    "x = 1\n",
    "latitudes = []\n",
    "while x < 11:\n",
    "    random_lat = random.randint(-90, 89) + random.random()\n",
    "    latitudes.append(random_lat)\n",
    "    x += 1\n",
    "    \n",
    "latitudes"
   ]
  },
  {
   "cell_type": "code",
   "execution_count": 13,
   "id": "efd9d0ce-37ad-4e37-a961-1821ea918646",
   "metadata": {},
   "outputs": [
    {
     "data": {
      "text/plain": [
       "-77"
      ]
     },
     "execution_count": 13,
     "metadata": {},
     "output_type": "execute_result"
    }
   ],
   "source": [
    "random.randrange(-90, 90, step = 1)"
   ]
  },
  {
   "cell_type": "code",
   "execution_count": 14,
   "id": "045db518-eb33-4dbe-947f-fd9b30d14ec3",
   "metadata": {},
   "outputs": [
    {
     "data": {
      "text/plain": [
       "-52.72445559228504"
      ]
     },
     "execution_count": 14,
     "metadata": {},
     "output_type": "execute_result"
    }
   ],
   "source": [
    "random.uniform(-90, 90)"
   ]
  },
  {
   "cell_type": "code",
   "execution_count": 15,
   "id": "27ee97fd-835b-40f0-af2b-bf688c3a127e",
   "metadata": {},
   "outputs": [],
   "source": [
    "# Import NumPy module.\n",
    "import numpy as np"
   ]
  },
  {
   "cell_type": "code",
   "execution_count": 16,
   "id": "5d3433d8-2c50-4e14-84cd-cfae458e53f1",
   "metadata": {},
   "outputs": [
    {
     "data": {
      "text/plain": [
       "-83.55912454686543"
      ]
     },
     "execution_count": 16,
     "metadata": {},
     "output_type": "execute_result"
    }
   ],
   "source": [
    "np.random.uniform(-90.000, 90.000)"
   ]
  },
  {
   "cell_type": "code",
   "execution_count": 17,
   "id": "7a49b4b4-f0c8-48d3-b704-0579bddd85e4",
   "metadata": {},
   "outputs": [
    {
     "data": {
      "text/plain": [
       "array([ 85.47017608, -31.92575377,  14.93496417,  54.55115355,\n",
       "        -6.42660018,  74.04549971, -16.70546415,  53.77569032,\n",
       "       -54.09199183, -34.36794242,  53.52345042, -52.09408157,\n",
       "        15.74142149, -12.69289629,  32.60251089,  15.3147425 ,\n",
       "       -86.61978559,   7.64469596,  65.2015562 ,   4.08783892,\n",
       "        39.24989355, -22.53440547, -17.47985151,  44.1153511 ,\n",
       "        74.81449295, -14.28995652, -30.30027561,  60.18285584,\n",
       "        71.79079406,  36.09844098, -88.60787314,  30.80204754,\n",
       "         8.87133055,  15.65683732,  31.26986633,  72.41161837,\n",
       "        30.68882412, -14.23045547,  70.54737853,  73.64400998,\n",
       "       -69.11001587, -31.64028114, -60.86180851,  12.07994523,\n",
       "       -62.10169484, -48.06535922, -45.48122663, -49.2507346 ,\n",
       "       -13.07187426,  79.90028389])"
      ]
     },
     "execution_count": 17,
     "metadata": {},
     "output_type": "execute_result"
    }
   ],
   "source": [
    "# To generate more than one random numbers with np.random.uniform, add size parameter in the ().\n",
    "np.random.uniform(-90.000, 90.000, size = 50)"
   ]
  },
  {
   "cell_type": "code",
   "execution_count": 18,
   "id": "c269409c-a422-419a-80ff-47fe19af318a",
   "metadata": {},
   "outputs": [],
   "source": [
    "# Import the timeit module\n",
    "import timeit"
   ]
  },
  {
   "cell_type": "code",
   "execution_count": 19,
   "id": "2a987eea-9fa2-4418-ba7b-f96967638ed7",
   "metadata": {},
   "outputs": [
    {
     "name": "stdout",
     "output_type": "stream",
     "text": [
      "12.7 µs ± 127 ns per loop (mean ± std. dev. of 7 runs, 100,000 loops each)\n"
     ]
    }
   ],
   "source": [
    "%timeit np.random.uniform(-90.000, 90.000, size = 1500)"
   ]
  },
  {
   "cell_type": "code",
   "execution_count": 20,
   "id": "7d499523-a7d1-40a9-867f-4185810ff2a4",
   "metadata": {},
   "outputs": [
    {
     "name": "stdout",
     "output_type": "stream",
     "text": [
      "1.11 ms ± 5.65 µs per loop (mean ± std. dev. of 7 runs, 1,000 loops each)\n"
     ]
    }
   ],
   "source": [
    "def latitudes(size):\n",
    "    latitudes = []\n",
    "    x = 0\n",
    "    while x < (size):\n",
    "        random_lat = random.randint(-90, 90) + random.random()\n",
    "        latitudes.append(random_lat)\n",
    "        x += 1\n",
    "    return latitudes\n",
    "# Call the function with 1500.\n",
    "%timeit latitudes(1500)"
   ]
  },
  {
   "cell_type": "code",
   "execution_count": null,
   "id": "23edc683-f577-4391-a919-fcc72f6af42a",
   "metadata": {},
   "outputs": [],
   "source": []
  }
 ],
 "metadata": {
  "kernelspec": {
   "display_name": "PythonData",
   "language": "python",
   "name": "pythondata"
  },
  "language_info": {
   "codemirror_mode": {
    "name": "ipython",
    "version": 3
   },
   "file_extension": ".py",
   "mimetype": "text/x-python",
   "name": "python",
   "nbconvert_exporter": "python",
   "pygments_lexer": "ipython3",
   "version": "3.9.12"
  }
 },
 "nbformat": 4,
 "nbformat_minor": 5
}
